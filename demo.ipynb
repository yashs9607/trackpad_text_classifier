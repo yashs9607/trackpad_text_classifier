{
 "cells": [
  {
   "cell_type": "code",
   "execution_count": 1,
   "metadata": {},
   "outputs": [
    {
     "name": "stderr",
     "output_type": "stream",
     "text": [
      "2023-07-09 10:34:17.847085: I tensorflow/core/util/port.cc:110] oneDNN custom operations are on. You may see slightly different numerical results due to floating-point round-off errors from different computation orders. To turn them off, set the environment variable `TF_ENABLE_ONEDNN_OPTS=0`.\n",
      "2023-07-09 10:34:17.848859: I tensorflow/tsl/cuda/cudart_stub.cc:28] Could not find cuda drivers on your machine, GPU will not be used.\n",
      "2023-07-09 10:34:17.883263: I tensorflow/tsl/cuda/cudart_stub.cc:28] Could not find cuda drivers on your machine, GPU will not be used.\n",
      "2023-07-09 10:34:17.883742: I tensorflow/core/platform/cpu_feature_guard.cc:182] This TensorFlow binary is optimized to use available CPU instructions in performance-critical operations.\n",
      "To enable the following instructions: AVX2 AVX512F AVX512_VNNI FMA, in other operations, rebuild TensorFlow with the appropriate compiler flags.\n",
      "2023-07-09 10:34:18.431284: W tensorflow/compiler/tf2tensorrt/utils/py_utils.cc:38] TF-TRT Warning: Could not find TensorRT\n"
     ]
    }
   ],
   "source": [
    "import numpy as np\n",
    "from keras.layers import Dense, LSTM, Dropout, Convolution2D, MaxPool2D, Flatten, Reshape\n",
    "from keras.models import Sequential\n",
    "from keras.utils import to_categorical\n",
    "from seqframe.seqframe import seq_frame\n"
   ]
  },
  {
   "attachments": {},
   "cell_type": "markdown",
   "metadata": {},
   "source": [
    "# Model"
   ]
  },
  {
   "cell_type": "code",
   "execution_count": 2,
   "metadata": {},
   "outputs": [],
   "source": [
    "\n",
    "model = Sequential()\n",
    "model.add(Convolution2D(32, kernel_size=(5,5), strides=3))\n",
    "model.add(MaxPool2D(pool_size=(2,2), strides=2))\n",
    "\n",
    "model.add(Convolution2D(64, kernel_size=(3,3), strides=2))\n",
    "model.add(MaxPool2D(pool_size=(2,2), strides=2))\n",
    "\n",
    "model.add(Convolution2D(128, kernel_size=(3,3), strides=1))\n",
    "model.add(MaxPool2D(pool_size=(2,2), strides=2))\n",
    "\n",
    "model.add(Flatten())\n",
    "model.add(Dropout(0.1))\n",
    "model.add(Dense(128, activation='relu'))\n",
    "model.add(Dropout(0.1))\n",
    "model.add(Dense(64, activation='relu'))\n",
    "model.add(Dropout(0.1))\n",
    "model.add(Dense(32, activation='relu'))\n",
    "model.add(Dropout(0.1))\n",
    "model.add(Dense(4, activation='softmax'))\n",
    "\n",
    "model.compile(optimizer='Adam', loss='categorical_crossentropy', metrics=['categorical_accuracy'])\n"
   ]
  },
  {
   "cell_type": "code",
   "execution_count": 3,
   "metadata": {},
   "outputs": [
    {
     "name": "stdout",
     "output_type": "stream",
     "text": [
      "Model: \"sequential\"\n",
      "_________________________________________________________________\n",
      " Layer (type)                Output Shape              Param #   \n",
      "=================================================================\n",
      " conv2d (Conv2D)             (13200, 63, 35, 32)       832       \n",
      "                                                                 \n",
      " max_pooling2d (MaxPooling2  (13200, 31, 17, 32)       0         \n",
      " D)                                                              \n",
      "                                                                 \n",
      " conv2d_1 (Conv2D)           (13200, 15, 8, 64)        18496     \n",
      "                                                                 \n",
      " max_pooling2d_1 (MaxPoolin  (13200, 7, 4, 64)         0         \n",
      " g2D)                                                            \n",
      "                                                                 \n",
      " conv2d_2 (Conv2D)           (13200, 5, 2, 128)        73856     \n",
      "                                                                 \n",
      " max_pooling2d_2 (MaxPoolin  (13200, 2, 1, 128)        0         \n",
      " g2D)                                                            \n",
      "                                                                 \n",
      " flatten (Flatten)           (13200, 256)              0         \n",
      "                                                                 \n",
      " dropout (Dropout)           (13200, 256)              0         \n",
      "                                                                 \n",
      " dense (Dense)               (13200, 128)              32896     \n",
      "                                                                 \n",
      " dropout_1 (Dropout)         (13200, 128)              0         \n",
      "                                                                 \n",
      " dense_1 (Dense)             (13200, 64)               8256      \n",
      "                                                                 \n",
      " dropout_2 (Dropout)         (13200, 64)               0         \n",
      "                                                                 \n",
      " dense_2 (Dense)             (13200, 32)               2080      \n",
      "                                                                 \n",
      " dropout_3 (Dropout)         (13200, 32)               0         \n",
      "                                                                 \n",
      " dense_3 (Dense)             (13200, 4)                132       \n",
      "                                                                 \n",
      "=================================================================\n",
      "Total params: 136548 (533.39 KB)\n",
      "Trainable params: 136548 (533.39 KB)\n",
      "Non-trainable params: 0 (0.00 Byte)\n",
      "_________________________________________________________________\n"
     ]
    }
   ],
   "source": [
    "model.build((13200, 191, 107, 1))\n",
    "model.summary()"
   ]
  },
  {
   "cell_type": "code",
   "execution_count": 4,
   "metadata": {},
   "outputs": [],
   "source": [
    "model.load_weights('model2_2.h5')"
   ]
  },
  {
   "attachments": {},
   "cell_type": "markdown",
   "metadata": {},
   "source": [
    "# Get ABS_INFO  "
   ]
  },
  {
   "cell_type": "code",
   "execution_count": 5,
   "metadata": {},
   "outputs": [],
   "source": [
    "import os\n",
    "import subprocess\n",
    "import numpy as np\n",
    "\n",
    "def abs_info():    \n",
    "    pipe = subprocess.Popen([\"libinput\", \"record\", \"/dev/input/event7\"], stdout=subprocess.PIPE)\n",
    "\n",
    "    ## ABS INFO\n",
    "    window = []\n",
    "    ABS_INFO={}\n",
    "    ABS_FLAG = -1\n",
    "    with pipe.stdout as stream:\n",
    "        while not pipe.poll():\n",
    "            try:\n",
    "                line = next(stream).decode().strip()\n",
    "                if line.startswith('absinfo:'):\n",
    "                    line = next(stream).decode().strip()\n",
    "                    ABS_FLAG = 1\n",
    "                elif line.startswith('properties:'):\n",
    "                    ABS_FLAG=0\n",
    "                \n",
    "                if ABS_FLAG==1:\n",
    "                    key, value = line.split(':')\n",
    "                    ABS_INFO[int(key)] = eval(value)\n",
    "                    # print(line)\n",
    "                elif ABS_FLAG==0:\n",
    "                    break\n",
    "                \n",
    "            except KeyboardInterrupt:\n",
    "                break\n",
    "            \n",
    "    pipe.kill()\n",
    "    return ABS_INFO\n"
   ]
  },
  {
   "attachments": {},
   "cell_type": "markdown",
   "metadata": {},
   "source": [
    "# Display"
   ]
  },
  {
   "cell_type": "code",
   "execution_count": 6,
   "metadata": {},
   "outputs": [],
   "source": [
    "# ABS_INFO = abs_info()\n",
    "\n",
    "# DISPLAY_SCALE = 2\n",
    "# MAX_LEN = ABS_INFO[0][1]/DISPLAY_SCALE\n",
    "# MAX_WID = ABS_INFO[1][1]/DISPLAY_SCALE\n",
    "# x=0\n",
    "# y=0\n",
    "words = ['hello', 'world', 'i_am', 'yash']\n",
    "\n",
    "\n",
    "# import pygame\n",
    "# from sys import exit\n",
    "# from time import time\n",
    "\n",
    "# # t = time()\n",
    "\n",
    "# pygame.init()\n",
    "# screen = pygame.display.set_mode((MAX_LEN, MAX_WID))\n",
    "\n",
    "# # pointer =  pygame.Surface((1,1))\n",
    "# P_WID = 5\n",
    "# P_HEI = 5\n",
    "# REFRESH=-1\n",
    "\n",
    "m, n = (1919, 1079)\n",
    "# sample_rate = 10\n",
    "# SAMPLE_SCALE = 10\n",
    "# samples = []\n",
    "# sample = np.zeros((m//SAMPLE_SCALE, n//SAMPLE_SCALE)).astype('uint8')\n",
    "\n",
    "# pipe = subprocess.Popen([\"libinput\", \"record\", \"/dev/input/event7\"], stdout=subprocess.PIPE)\n",
    "# window = []\n",
    "# WINDOW_SIZE=1100\n",
    "# EVENTS_FLAG = -1\n",
    "# ptr = 0\n",
    "\n",
    "# with pipe.stdout as stream:\n",
    "#     while not pipe.poll():\n",
    "#         try:\n",
    "\n",
    "#             if REFRESH == -1:\n",
    "#                 try:\n",
    "#                     pygame.display.set_caption(f\"{words[y_hat]}\")\n",
    "#                 except:\n",
    "#                     pygame.display.set_caption(\"write something\")\n",
    "                    \n",
    "#             else:\n",
    "#                 # pygame.display.set_caption('down_pressed')\n",
    "#                 samples = []\n",
    "#                 sample = np.zeros((m//SAMPLE_SCALE, n//SAMPLE_SCALE)).astype('uint8')\n",
    "#                 screen.fill((0,0,0))\n",
    "#                 X_test = 0\n",
    "#                 REFRESH = -1\n",
    "                \n",
    "                \n",
    "#             pygame.draw.rect(screen, (255, 0, 0), (x, y, P_WID, P_HEI))\n",
    "#             pygame.display.update()\n",
    "            \n",
    "            \n",
    "#             line = next(stream).decode().strip()\n",
    "#             if line.startswith('events:'):\n",
    "#                 EVENTS_FLAG = 1\n",
    "#                 continue\n",
    "            \n",
    "#             if EVENTS_FLAG==1:\n",
    "#                 if line.startswith('#') or line.startswith('- evdev:'):\n",
    "#                     continue\n",
    "                \n",
    "#                 # window.append(eval(line.split('#')[0].strip('- ')))\n",
    "#                 # window = window[::-1][0:min(len(window), WINDOW_SIZE)]\n",
    "\n",
    "#                 # e = window[0]\n",
    "#                 e = eval(line.split('#')[0].strip('- '))\n",
    "#                 if e[2]==3:\n",
    "#                     if e[3]==0:\n",
    "#                         x = e[-1]/DISPLAY_SCALE\n",
    "#                     if e[3]==1:\n",
    "#                         y = e[-1]/DISPLAY_SCALE\n",
    "                    \n",
    "#                     if REFRESH == -1:\n",
    "#                         window.append(np.array([x,y]))\n",
    "#                         sample[int(x//SAMPLE_SCALE)][int(y//SAMPLE_SCALE)] = 1\n",
    "#                         samples.append(sample.reshape((m//SAMPLE_SCALE, n//SAMPLE_SCALE,1)))\n",
    "#                         samples = samples[::-1][0:min(len(samples), 5)]\n",
    "#                         ptr += 1\n",
    "#                         print(np.sum(samples))\n",
    "#                         if ptr > 500:\n",
    "#                             X_test = np.array(samples)\n",
    "#                             preds = model.predict(X_test)\n",
    "#                             y_hat = np.argmax(np.mean(preds,axis=1))\n",
    "#                             # print(words[y_hat])\n",
    "#                             # print(X_test.shape)\n",
    "#                             X_test = 0\n",
    "#                             ptr = 0\n",
    "                        \n",
    "#                     else:\n",
    "#                         window.append(np.array([0,0]))\n",
    "                    \n",
    "#                     window = window[::-1][0:min(len(window), WINDOW_SIZE)]\n",
    "                    \n",
    "#                     # print(window[0])\n",
    "#                     # print(window[min(np.random.randint(0,sample_rate), len(window))])\n",
    "                    \n",
    "                    \n",
    "#                     for event in pygame.event.get():\n",
    "#                         if event.type == pygame.KEYDOWN:\n",
    "#                             REFRESH = 1\n",
    "\n",
    "#                         if event.type == pygame.QUIT:\n",
    "#                             pipe.kill()\n",
    "#                             pygame.quit()\n",
    "#                             break\n",
    "                        \n",
    "                        \n",
    "#         except KeyboardInterrupt:\n",
    "#             break\n",
    "#     pipe.kill()\n",
    "#     pygame.quit()      \n"
   ]
  },
  {
   "attachments": {},
   "cell_type": "markdown",
   "metadata": {},
   "source": [
    "# Single Display"
   ]
  },
  {
   "cell_type": "code",
   "execution_count": 11,
   "metadata": {},
   "outputs": [
    {
     "name": "stderr",
     "output_type": "stream",
     "text": [
      "# Recording to 'stdout'.\n",
      "# Recording to 'stdout'.\n"
     ]
    },
    {
     "name": "stdout",
     "output_type": "stream",
     "text": [
      "1/1 [==============================] - 0s 38ms/step\n",
      "world\n"
     ]
    }
   ],
   "source": [
    "q=1\n",
    "for_disp = []\n",
    "while q==1:\n",
    "    ABS_INFO = abs_info()\n",
    "    SCALE = 2\n",
    "    MAX_LEN = ABS_INFO[0][1]/SCALE\n",
    "    MAX_WID = ABS_INFO[1][1]/SCALE\n",
    "    x=0\n",
    "    y=0\n",
    "\n",
    "    import pygame\n",
    "\n",
    "    pygame.init()\n",
    "    screen = pygame.display.set_mode((MAX_LEN, MAX_WID))\n",
    "\n",
    "    \n",
    "    P_WID = 5\n",
    "    P_HEI = 5\n",
    "    \n",
    "    temp = []\n",
    "    finished=-1\n",
    "    pipe = subprocess.Popen([\"libinput\", \"record\", \"/dev/input/event7\"], stdout=subprocess.PIPE)\n",
    "    window = []\n",
    "    WINDOW_SIZE=1500\n",
    "    EVENTS_FLAG = -1\n",
    "\n",
    "    with pipe.stdout as stream:\n",
    "        while not pipe.poll():\n",
    "            try:\n",
    "            # try:\n",
    "                pygame.draw.rect(screen, (255, 0, 0), (x, y, P_WID, P_HEI))\n",
    "                pygame.display.update()\n",
    "            except (KeyboardInterrupt, Exception):\n",
    "                q=-1        # for pygame window crash while exit\n",
    "                break\n",
    "                \n",
    "            # except:\n",
    "            #     break\n",
    "\n",
    "            \n",
    "            line = next(stream).decode().strip()\n",
    "            \n",
    "            if line.startswith('events:'):\n",
    "                EVENTS_FLAG = 1\n",
    "                continue\n",
    "            \n",
    "            if EVENTS_FLAG==1:\n",
    "                if line.startswith('#') or line.startswith('- evdev:'):\n",
    "                    continue\n",
    "                \n",
    "                # keep track of limited incoming events\n",
    "                window.append(eval(line.split('#')[0].strip('- ')))\n",
    "                window = window[::-1][0:min(len(window), 1)]\n",
    "                e = window[0]\n",
    "                if e[2]==3:\n",
    "                    if e[3]==0:\n",
    "                        x = e[-1]/SCALE\n",
    "                    if e[3]==1:\n",
    "                        y = e[-1]/SCALE\n",
    "                    \n",
    "                    if finished == -1:\n",
    "                        temp.append(np.array([x,y]))\n",
    "                    else:\n",
    "                        temp.append(np.array([0,0]))\n",
    "                    \n",
    "                    # event check\n",
    "                    for event in pygame.event.get():\n",
    "                        # stops the input to sample and passes (0,0) instead\n",
    "                        if event.type == pygame.KEYDOWN:\n",
    "                            finished = 1\n",
    "                            \n",
    "                        if event.type == pygame.QUIT:\n",
    "                            pygame.quit()\n",
    "                            pipe.kill()\n",
    "                            break\n",
    "                        \n",
    "                    # frames == threshold  \n",
    "                    if len(temp)==WINDOW_SIZE:\n",
    "                        break\n",
    "            \n",
    "            \n",
    "            \n",
    "    \n",
    "\n",
    "            \n",
    "        pipe.kill()\n",
    "        pygame.quit()      \n",
    "\n",
    "    a = np.array(temp)                  # sparse matrix image\n",
    "    samp = np.zeros((m//10, n//10))     # dense matrix init\n",
    "    samp = samp.astype('uint8')\n",
    "    \n",
    "    for_disp.append(samp)\n",
    "    for_disp = for_disp[::-1][0:min(len(for_disp), 5)]      # keeps last 5 images\n",
    "    # sparse to dense matrix conversion of npy image\n",
    "    for cord in a:\n",
    "        samp[int(cord[0]//10)][int(cord[1]//10)] = 1\n",
    "\n",
    "    samp = samp.reshape((1, 191, -1, 1))\n",
    "    pred = model.predict(samp)\n",
    "    print(words[np.argmax(pred)])\n",
    "    # pygame.display.set_caption(f'{words[np.argmax(pred)]}')\n",
    "\n"
   ]
  },
  {
   "cell_type": "code",
   "execution_count": 85,
   "metadata": {},
   "outputs": [
    {
     "data": {
      "text/plain": [
       "<matplotlib.image.AxesImage at 0x7f7cfae3eb50>"
      ]
     },
     "execution_count": 85,
     "metadata": {},
     "output_type": "execute_result"
    },
    {
     "data": {
      "image/png": "[encoded data removed]",
      "text/plain": [
       "<Figure size 640x480 with 1 Axes>"
      ]
     },
     "metadata": {},
     "output_type": "display_data"
    }
   ],
   "source": [
    "import matplotlib.pyplot as plt\n",
    "k = np.random.randint(0, len(for_disp))\n",
    "plt.imshow(for_disp[k].T)\n"
   ]
  },
  {
   "cell_type": "code",
   "execution_count": 86,
   "metadata": {},
   "outputs": [],
   "source": [
    "# model.predict()\n",
    "samp = for_disp[k].reshape((1, 191, -1, 1))"
   ]
  },
  {
   "cell_type": "code",
   "execution_count": 87,
   "metadata": {},
   "outputs": [
    {
     "name": "stdout",
     "output_type": "stream",
     "text": [
      "1/1 [==============================] - ETA: 0s"
     ]
    },
    {
     "name": "stdout",
     "output_type": "stream",
     "text": [
      "1/1 [==============================] - 0s 18ms/step\n"
     ]
    }
   ],
   "source": [
    "pred = model.predict(samp)"
   ]
  },
  {
   "cell_type": "code",
   "execution_count": 88,
   "metadata": {},
   "outputs": [
    {
     "data": {
      "text/plain": [
       "'i_am'"
      ]
     },
     "execution_count": 88,
     "metadata": {},
     "output_type": "execute_result"
    }
   ],
   "source": [
    "words[np.argmax(pred)]"
   ]
  },
  {
   "cell_type": "code",
   "execution_count": null,
   "metadata": {},
   "outputs": [],
   "source": []
  }
 ],
 "metadata": {
  "kernelspec": {
   "display_name": "trackpad_text_detection",
   "language": "python",
   "name": "python3"
  },
  "language_info": {
   "codemirror_mode": {
    "name": "ipython",
    "version": 3
   },
   "file_extension": ".py",
   "mimetype": "text/x-python",
   "name": "python",
   "nbconvert_exporter": "python",
   "pygments_lexer": "ipython3",
   "version": "3.11.3"
  },
  "orig_nbformat": 4
 },
 "nbformat": 4,
 "nbformat_minor": 2
}
