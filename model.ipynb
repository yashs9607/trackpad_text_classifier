{
 "cells": [
  {
   "cell_type": "code",
   "execution_count": 1,
   "metadata": {},
   "outputs": [
    {
     "name": "stderr",
     "output_type": "stream",
     "text": [
      "2023-07-08 06:05:31.182977: I tensorflow/core/util/port.cc:110] oneDNN custom operations are on. You may see slightly different numerical results due to floating-point round-off errors from different computation orders. To turn them off, set the environment variable `TF_ENABLE_ONEDNN_OPTS=0`.\n",
      "2023-07-08 06:05:31.184237: I tensorflow/tsl/cuda/cudart_stub.cc:28] Could not find cuda drivers on your machine, GPU will not be used.\n",
      "2023-07-08 06:05:31.216116: I tensorflow/tsl/cuda/cudart_stub.cc:28] Could not find cuda drivers on your machine, GPU will not be used.\n",
      "2023-07-08 06:05:31.216664: I tensorflow/core/platform/cpu_feature_guard.cc:182] This TensorFlow binary is optimized to use available CPU instructions in performance-critical operations.\n",
      "To enable the following instructions: AVX2 AVX512F AVX512_VNNI FMA, in other operations, rebuild TensorFlow with the appropriate compiler flags.\n",
      "2023-07-08 06:05:32.058925: W tensorflow/compiler/tf2tensorrt/utils/py_utils.cc:38] TF-TRT Warning: Could not find TensorRT\n"
     ]
    }
   ],
   "source": [
    "import tensorflow as tf\n",
    "from keras.layers import Dense, LSTM, Dropout\n",
    "from keras.models import Sequential\n",
    "from keras.utils import to_categorical"
   ]
  },
  {
   "cell_type": "code",
   "execution_count": 2,
   "metadata": {},
   "outputs": [],
   "source": [
    "import numpy as np\n",
    "from sklearn.model_selection import train_test_split\n",
    "from sklearn.metrics import accuracy_score\n",
    "no_sequences = 30\n",
    "words = ['hello', 'world', 'i_am', 'yash']\n",
    "PATH = '/home/yash/Desktop/Code/trackpad_text_detection/word_data/'\n",
    "# x = [np.load(\"\".join(PATH + i + '/' + str(j) + '.npy')) for i in words for j in range(no_sequences)]"
   ]
  },
  {
   "cell_type": "code",
   "execution_count": 3,
   "metadata": {},
   "outputs": [],
   "source": [
    "# len(x)\n",
    "y = np.array([i for i, _ in enumerate(words) for j in range(no_sequences)])\n",
    "y = to_categorical(y)"
   ]
  },
  {
   "cell_type": "code",
   "execution_count": 4,
   "metadata": {},
   "outputs": [],
   "source": [
    "# x = np.array(x)#.reshape((-1, 4,2))\n",
    "# x = np.reshape(x, (-1, 1000, 2))\n",
    "# x = x.astype('float32')\n",
    "# x = np.reshape(x, (1, 6, 1000))\n",
    "# x.shape"
   ]
  },
  {
   "cell_type": "code",
   "execution_count": 5,
   "metadata": {},
   "outputs": [],
   "source": [
    "# lstm_model = Sequential()\n",
    "# lstm_model.add(LSTM(128, activation='relu', input_shape=(1100,2),  return_sequences=True,))\n",
    "# # lstm_model.add(Dropout(0.2))\n",
    "# lstm_model.add(LSTM(128, activation='relu'))\n",
    "# # lstm_model.add(Dropout(0.2))\n",
    "# # lstm_model.add(Dense(32,activation='relu'))\n",
    "# # lstm_model.add(Dropout(0.2))\n",
    "# lstm_model.add(Dense(4,activation='softmax'))\n",
    "# lstm_model.compile(loss='sparse_categorical_crossentropy',optimizer='adam',metrics=['accuracy'])\n",
    "\n"
   ]
  },
  {
   "cell_type": "code",
   "execution_count": 6,
   "metadata": {},
   "outputs": [],
   "source": [
    "# lstm_model.build((250,4,2))\n",
    "# (lstm_model.summary())"
   ]
  },
  {
   "cell_type": "code",
   "execution_count": 7,
   "metadata": {},
   "outputs": [],
   "source": [
    "# lstm_model.fit(x, y, epochs=10)"
   ]
  },
  {
   "cell_type": "code",
   "execution_count": null,
   "metadata": {},
   "outputs": [],
   "source": []
  },
  {
   "cell_type": "code",
   "execution_count": 8,
   "metadata": {},
   "outputs": [],
   "source": [
    "import numpy as np\n",
    "a = np.load('word_data/hello_/4/1099.npy')"
   ]
  },
  {
   "cell_type": "code",
   "execution_count": 9,
   "metadata": {},
   "outputs": [
    {
     "data": {
      "text/plain": [
       "<matplotlib.image.AxesImage at 0x7f8ab35f5b50>"
      ]
     },
     "execution_count": 9,
     "metadata": {},
     "output_type": "execute_result"
    },
    {
     "data": {
      "image/png": "[encoded data removed]",
      "text/plain": [
       "<Figure size 640x480 with 1 Axes>"
      ]
     },
     "metadata": {},
     "output_type": "display_data"
    }
   ],
   "source": [
    "from matplotlib import pyplot as plt\n",
    "plt.imshow(a.T)"
   ]
  },
  {
   "cell_type": "code",
   "execution_count": 10,
   "metadata": {},
   "outputs": [],
   "source": [
    "from seqframe.seqframe import seq_frame\n",
    "temp = []\n",
    "no_sequences = 30\n",
    "words = ['hello', 'world', 'i_am', 'yash']\n",
    "for word in words:\n",
    "    for i in range(no_sequences):\n",
    "        c = np.load(f'word_data/{word}/{i}.npy')\n",
    "        b = seq_frame(c, 'LSTM')\n",
    "        # plt.imshow(b[-1].T)\n",
    "        temp.append(b)"
   ]
  },
  {
   "cell_type": "code",
   "execution_count": 11,
   "metadata": {},
   "outputs": [],
   "source": [
    "x = np.array(temp)"
   ]
  },
  {
   "cell_type": "code",
   "execution_count": 12,
   "metadata": {},
   "outputs": [
    {
     "data": {
      "text/plain": [
       "(120, 220, 20437)"
      ]
     },
     "execution_count": 12,
     "metadata": {},
     "output_type": "execute_result"
    }
   ],
   "source": [
    "# x = np.reshape(x, (120, 220, -1, 1))\n",
    "x.shape"
   ]
  },
  {
   "cell_type": "code",
   "execution_count": 13,
   "metadata": {},
   "outputs": [],
   "source": [
    "X_train, X_test, y_train, y_test = train_test_split(x,y,test_size=0.1, shuffle=True, random_state=30)"
   ]
  },
  {
   "cell_type": "code",
   "execution_count": 14,
   "metadata": {},
   "outputs": [],
   "source": [
    "\n",
    "model = Sequential()\n",
    "model.add(LSTM(64, return_sequences=True, activation='relu'))#, input_shape=(x.shape[1],x.shape[2])))\n",
    "model.add(LSTM(128, return_sequences=True, activation='relu'))\n",
    "model.add(LSTM(64, return_sequences=False, activation='relu'))\n",
    "model.add(Dense(64, activation='relu'))\n",
    "model.add(Dense(32, activation='relu'))\n",
    "model.add(Dense(4, activation='softmax'))\n",
    "model.compile(optimizer='Adam', loss='categorical_crossentropy', metrics=['categorical_accuracy'])"
   ]
  },
  {
   "cell_type": "code",
   "execution_count": 15,
   "metadata": {},
   "outputs": [
    {
     "name": "stdout",
     "output_type": "stream",
     "text": [
      "Model: \"sequential\"\n",
      "_________________________________________________________________\n",
      " Layer (type)                Output Shape              Param #   \n",
      "=================================================================\n",
      " lstm (LSTM)                 (120, 220, 64)            5248512   \n",
      "                                                                 \n",
      " lstm_1 (LSTM)               (120, 220, 128)           98816     \n",
      "                                                                 \n",
      " lstm_2 (LSTM)               (120, 64)                 49408     \n",
      "                                                                 \n",
      " dense (Dense)               (120, 64)                 4160      \n",
      "                                                                 \n",
      " dense_1 (Dense)             (120, 32)                 2080      \n",
      "                                                                 \n",
      " dense_2 (Dense)             (120, 4)                  132       \n",
      "                                                                 \n",
      "=================================================================\n",
      "Total params: 5403108 (20.61 MB)\n",
      "Trainable params: 5403108 (20.61 MB)\n",
      "Non-trainable params: 0 (0.00 Byte)\n",
      "_________________________________________________________________\n"
     ]
    }
   ],
   "source": [
    "model.build(x.shape)\n",
    "model.summary()"
   ]
  },
  {
   "cell_type": "code",
   "execution_count": 16,
   "metadata": {},
   "outputs": [
    {
     "name": "stdout",
     "output_type": "stream",
     "text": [
      "Epoch 1/6\n",
      "4/4 [==============================] - 11s 2s/step - loss: 1.3831 - categorical_accuracy: 0.2778\n",
      "Epoch 2/6\n",
      "4/4 [==============================] - 8s 2s/step - loss: 1.3059 - categorical_accuracy: 0.5093\n",
      "Epoch 3/6\n",
      "4/4 [==============================] - 8s 2s/step - loss: 439.0719 - categorical_accuracy: 0.5278\n",
      "Epoch 4/6\n",
      "4/4 [==============================] - 8s 2s/step - loss: 1687955.1250 - categorical_accuracy: 0.2315\n",
      "Epoch 5/6\n",
      "4/4 [==============================] - 8s 2s/step - loss: 46103.1211 - categorical_accuracy: 0.2130\n",
      "Epoch 6/6\n",
      "4/4 [==============================] - 8s 2s/step - loss: 128071.1094 - categorical_accuracy: 0.2685\n"
     ]
    },
    {
     "data": {
      "text/plain": [
       "<keras.src.callbacks.History at 0x7f8ab3313a10>"
      ]
     },
     "execution_count": 16,
     "metadata": {},
     "output_type": "execute_result"
    }
   ],
   "source": [
    "\n",
    "model.fit(X_train,y_train, epochs=6)\n",
    "# y.reshape(1,-1)"
   ]
  },
  {
   "cell_type": "code",
   "execution_count": 17,
   "metadata": {},
   "outputs": [
    {
     "name": "stdout",
     "output_type": "stream",
     "text": [
      "1/1 [==============================] - 1s 635ms/step\n"
     ]
    }
   ],
   "source": [
    "preds = model.predict(X_test)\n",
    "# accuracy_score(y_test, preds)"
   ]
  },
  {
   "cell_type": "code",
   "execution_count": 18,
   "metadata": {},
   "outputs": [],
   "source": [
    "y_true = np.argmax(y_test, axis=1)\n",
    "y_hat = np.argmax(preds, axis=1)"
   ]
  },
  {
   "cell_type": "code",
   "execution_count": 19,
   "metadata": {},
   "outputs": [
    {
     "data": {
      "text/plain": [
       "0.3333333333333333"
      ]
     },
     "execution_count": 19,
     "metadata": {},
     "output_type": "execute_result"
    }
   ],
   "source": [
    "accuracy_score(y_true, y_hat)"
   ]
  },
  {
   "cell_type": "code",
   "execution_count": null,
   "metadata": {},
   "outputs": [],
   "source": []
  }
 ],
 "metadata": {
  "kernelspec": {
   "display_name": "trackpad_text_detection",
   "language": "python",
   "name": "python3"
  },
  "language_info": {
   "codemirror_mode": {
    "name": "ipython",
    "version": 3
   },
   "file_extension": ".py",
   "mimetype": "text/x-python",
   "name": "python",
   "nbconvert_exporter": "python",
   "pygments_lexer": "ipython3",
   "version": "3.11.3"
  },
  "orig_nbformat": 4
 },
 "nbformat": 4,
 "nbformat_minor": 2
}
